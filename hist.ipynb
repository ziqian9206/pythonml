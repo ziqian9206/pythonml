{
 "cells": [
  {
   "cell_type": "code",
   "execution_count": 23,
   "metadata": {},
   "outputs": [
    {
     "data": {
      "text/plain": [
       "-1"
      ]
     },
     "execution_count": 23,
     "metadata": {},
     "output_type": "execute_result"
    }
   ],
   "source": [
    "import cv2\n",
    "import numpy as np\n",
    "def ImageHist(image,type):\n",
    "    color=(255,255,255)\n",
    "    windowName = 'gray'\n",
    "    if type ==31:\n",
    "        color=(255,0,0)\n",
    "        windowName='Bhist'\n",
    "    elif type ==32:\n",
    "        color=(0,255,0)\n",
    "        windowName='Ghist'\n",
    "    elif type ==33:\n",
    "        color=(0,0,255)\n",
    "        windowName='Rhist'\n",
    "    #计算图片直方图 image 通道 模板 size灰度值 各像素值\n",
    "    hist=cv2.calcHist([image],[0],None,[256],[0.0,255.0])\n",
    "    \n",
    "    minV,maxV,minL,maxL = cv2.minMaxLoc(hist)    \n",
    "    histImg=np.zeros([256,256,3],np.uint8)\n",
    "    for h in range(256):\n",
    "        #归一（0，256）\n",
    "        intenNormal = int(hist[h]*256/maxV)\n",
    "        cv2.line(histImg,(h,256),(h,256-intenNormal),color)\n",
    "    cv2.imshow(windowName,histImg)\n",
    "    return histImg\n",
    "\n",
    "img = cv2.imread(\"/Users/ziqianwang/Desktop/mixed/apartmentLayout/WechatIMG308.jpeg\",1)\n",
    "channels=cv2.split(img)\n",
    "for i in range(0,3):\n",
    "    ImageHist(channels[i],31+i)\n",
    "his = np.zeros([256,256,3])\n",
    "cv2.line(his,(0,40),(70,40),(0,0,255))\n",
    "cv2.imshow(\"his\",his)\n",
    "cv2.waitKey(1000)"
   ]
  },
  {
   "cell_type": "code",
   "execution_count": null,
   "metadata": {},
   "outputs": [],
   "source": []
  }
 ],
 "metadata": {
  "kernelspec": {
   "display_name": "Python 3",
   "language": "python",
   "name": "python3"
  },
  "language_info": {
   "codemirror_mode": {
    "name": "ipython",
    "version": 3
   },
   "file_extension": ".py",
   "mimetype": "text/x-python",
   "name": "python",
   "nbconvert_exporter": "python",
   "pygments_lexer": "ipython3",
   "version": "3.6.6"
  }
 },
 "nbformat": 4,
 "nbformat_minor": 2
}
