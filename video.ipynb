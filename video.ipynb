{
 "cells": [
  {
   "cell_type": "code",
   "execution_count": 17,
   "metadata": {},
   "outputs": [
    {
     "name": "stdout",
     "output_type": "stream",
     "text": [
      "<built-in method isOpened of cv2.VideoCapture object at 0x113b2e190>\n",
      "30.0 540 960\n",
      "/Users/ziqianwang/Downloads/video/image10.jpg\n",
      "/Users/ziqianwang/Downloads/video/image20.jpg\n",
      "/Users/ziqianwang/Downloads/video/image30.jpg\n",
      "/Users/ziqianwang/Downloads/video/image40.jpg\n",
      "/Users/ziqianwang/Downloads/video/image50.jpg\n",
      "/Users/ziqianwang/Downloads/video/image60.jpg\n",
      "/Users/ziqianwang/Downloads/video/image70.jpg\n",
      "/Users/ziqianwang/Downloads/video/image80.jpg\n",
      "/Users/ziqianwang/Downloads/video/image90.jpg\n",
      "/Users/ziqianwang/Downloads/video/image100.jpg\n",
      "/Users/ziqianwang/Downloads/video/image110.jpg\n",
      "/Users/ziqianwang/Downloads/video/image120.jpg\n",
      "/Users/ziqianwang/Downloads/video/image130.jpg\n",
      "/Users/ziqianwang/Downloads/video/image140.jpg\n",
      "/Users/ziqianwang/Downloads/video/image150.jpg\n",
      "/Users/ziqianwang/Downloads/video/image160.jpg\n",
      "/Users/ziqianwang/Downloads/video/image170.jpg\n",
      "/Users/ziqianwang/Downloads/video/image180.jpg\n",
      "/Users/ziqianwang/Downloads/video/image190.jpg\n",
      "/Users/ziqianwang/Downloads/video/image200.jpg\n",
      "end!\n"
     ]
    }
   ],
   "source": [
    "#视频分解图片\n",
    "#load2读取视频信息3parse解码视频，单帧4.imshow imwrite\n",
    "import cv2\n",
    "\n",
    "capture = cv2.VideoCapture(\"/Users/ziqianwang/Downloads/video/iceisland.mp4\")\n",
    "isOpened1  =capture.isOpened#是否可以打开\n",
    "print(isOpened1)\n",
    "fps = capture.get(cv2.CAP_PROP_FPS)\n",
    "width = int(capture.get(cv2.CAP_PROP_FRAME_WIDTH))\n",
    "height = int(capture.get(cv2.CAP_PROP_FRAME_HEIGHT))\n",
    "print(fps,width,height)\n",
    "i=0\n",
    "while(isOpened1):\n",
    "    if i==200:\n",
    "        break\n",
    "    else:\n",
    "        i=i+10\n",
    "    (flag,frame)=capture.read()\n",
    "    fileName = \"/Users/ziqianwang/Downloads/video/image\"+str(i)+'.jpg'\n",
    "    print(fileName)\n",
    "    if flag==True:\n",
    "        cv2.imwrite(fileName,frame,[cv2.IMWRITE_JPEG_QUALITY,100])\n",
    "print(\"end!\")\n",
    "    \n",
    "    \n",
    "    "
   ]
  },
  {
   "cell_type": "code",
   "execution_count": null,
   "metadata": {},
   "outputs": [],
   "source": []
  }
 ],
 "metadata": {
  "kernelspec": {
   "display_name": "Python 3",
   "language": "python",
   "name": "python3"
  },
  "language_info": {
   "codemirror_mode": {
    "name": "ipython",
    "version": 3
   },
   "file_extension": ".py",
   "mimetype": "text/x-python",
   "name": "python",
   "nbconvert_exporter": "python",
   "pygments_lexer": "ipython3",
   "version": "3.6.6"
  }
 },
 "nbformat": 4,
 "nbformat_minor": 2
}
