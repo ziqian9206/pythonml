{
 "cells": [
  {
   "cell_type": "code",
   "execution_count": 14,
   "metadata": {},
   "outputs": [
    {
     "name": "stdout",
     "output_type": "stream",
     "text": [
      "Extracting /Users/ziqianwang/Desktop/kecode/TensorFlow/源码/4手写数字识别/MNIST_data /train-images-idx3-ubyte.gz\n",
      "Extracting /Users/ziqianwang/Desktop/kecode/TensorFlow/源码/4手写数字识别/MNIST_data /train-labels-idx1-ubyte.gz\n",
      "Extracting /Users/ziqianwang/Desktop/kecode/TensorFlow/源码/4手写数字识别/MNIST_data /t10k-images-idx3-ubyte.gz\n",
      "Extracting /Users/ziqianwang/Desktop/kecode/TensorFlow/源码/4手写数字识别/MNIST_data /t10k-labels-idx1-ubyte.gz\n",
      "trainData.shape: (500, 784)\n",
      "trainlabel.shape: (500, 10)\n",
      "testData.shape: (5, 784)\n",
      "testlabel.shape: (5, 10)\n",
      "p1= (5, 1, 784)\n",
      "p2= (5, 500, 784)\n",
      "p3= (5, 500)\n",
      " 154.29803\n",
      "p4= (5, 500)\n",
      " -154.29803\n",
      "p5= (5, 4)\n",
      "p6= (5, 4)\n"
     ]
    }
   ],
   "source": [
    "#knn原理：样本图进行比较，k个相似图片，找相似性最大的，统计那个字出现最高\n",
    "\n",
    "import tensorflow as tf\n",
    "import numpy as np\n",
    "import random\n",
    "#old_v = tf.logging.get_verbosity()\n",
    "#tf.logging.set_verbosity(tf.logging.ERROR)\n",
    "from tensorflow.examples.tutorials.mnist import input_data\n",
    "#load data，随机数加载 4组训练图片/标签 测试图片/标签 \n",
    "#one_hot只要有一个1其他都是0\n",
    "mnist = input_data.read_data_sets('/Users/ziqianwang/Desktop/kecode/TensorFlow/源码/4手写数字识别/MNIST_data ',one_hot=True)\n",
    "#trainNum训练多少图片，testNum测试图片，trainSize使用多少图片，测试使用多少图片\n",
    "trainNum = 55000\n",
    "testNum = 10000\n",
    "trainSize = 500\n",
    "testSize =5\n",
    "k=4\n",
    "#数据加载 data分解 在0-trainNum之间 选取trainSize个随机数，不可重复  \n",
    "trainIndex = np.random.choice(trainNum,trainSize,replace=False)\n",
    "testIndex = np.random.choice(testNum,testSize,replace=False)\n",
    "trainData = mnist.train.images[trainIndex]#获取训练图片\n",
    "trainLabel = mnist.train.labels[trainIndex]#获取训练标签\n",
    "testData = minst.test.images[testIndex]\n",
    "testLabel = minst.test.labels[testIndex]\n",
    "#28*28=784图片所有像素点\n",
    "print('trainData.shape:',trainData.shape)#500行*784列\n",
    "print('trainlabel.shape:',trainLabel.shape)#500行*10列\n",
    "\n",
    "print('testData.shape:',testData.shape)#500行*784列\n",
    "print('testlabel.shape:',testLabel.shape)#500行*10列\n",
    "#tf input 784->image n*784 n*10\n",
    "trainDataInput = tf.placeholder(shape=[None,784],dtype=tf.float32)\n",
    "trainLabelInput = tf.placeholder(shape=[None,10],dtype = tf.float32)\n",
    "testDataInput = tf.placeholder(shape=[None,784],dtype = tf.float32)\n",
    "testLabelInput = tf.placeholder(shape=[None,10],dtype = tf.float32)\n",
    "\n",
    "#计算knn距离distance,转化维度5*784->5*1*784,测试图片训练图片距离差值的计算\n",
    "f1 = tf.expand_dims(testDataInput,1)#维度扩展\n",
    "f2 = tf.subtract(trainDataInput,f1)#784 sum(784)\n",
    "f3 = tf.reduce_sum(tf.abs(f2),reduction_indices=2)#在第二个维度上数据累加\n",
    "#5*500 \n",
    "f4=tf.negative(f3)\n",
    "f5,f6 = tf.nn.top_k(f4,k=4)#选取f4最大的四个值和f3中最小的四个值\n",
    "\n",
    "with tf.Session() as sess:\n",
    "    #运行f1，参数testData，5张图片\n",
    "    p1 = sess.run(f1,feed_dict={testDataInput:testData[0:5]})\n",
    "    print('p1=',p1.shape)#p1的维度，28行28列图片\n",
    "    p2= sess.run(f2,feed_dict={trainDataInput:trainData,testDataInput:testData[0:5]})\n",
    "    print('p2=',p2.shape)\n",
    "    p3 = sess.run(f3,feed_dict={trainDataInput:trainData,testDataInput:testData[0:5]})\n",
    "    print('p3=',p3.shape)\n",
    "    print('',p3[0,0])\n",
    "    p4 = sess.run(f4,feed_dict={trainDataInput:trainData,testDataInput:testData[0:5]})\n",
    "    print('p4=',p4.shape)\n",
    "    print('',p4[0,0])\n",
    "    \n",
    "    p5,p6 = sess.run((f5,f6),feed_dict={trainDataInput:trainData,testDataInput:testData[0:5]})\n",
    "    print('p5=',p5.shape)\n",
    "    print('p6=',p6.shape)\n",
    "    f7 = tf.gather(trainLabelInput,f6)"
   ]
  },
  {
   "cell_type": "code",
   "execution_count": null,
   "metadata": {},
   "outputs": [],
   "source": []
  },
  {
   "cell_type": "code",
   "execution_count": null,
   "metadata": {},
   "outputs": [],
   "source": []
  }
 ],
 "metadata": {
  "kernelspec": {
   "display_name": "Python 3",
   "language": "python",
   "name": "python3"
  },
  "language_info": {
   "codemirror_mode": {
    "name": "ipython",
    "version": 3
   },
   "file_extension": ".py",
   "mimetype": "text/x-python",
   "name": "python",
   "nbconvert_exporter": "python",
   "pygments_lexer": "ipython3",
   "version": "3.6.6"
  }
 },
 "nbformat": 4,
 "nbformat_minor": 2
}
