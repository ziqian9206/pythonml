{
 "cells": [
  {
   "cell_type": "code",
   "execution_count": 2,
   "metadata": {},
   "outputs": [
    {
     "name": "stdout",
     "output_type": "stream",
     "text": [
      "Extracting /Users/ziqianwang/Desktop/kecode/TensorFlow/源码/4手写数字识别/MNIST_data /train-images-idx3-ubyte.gz\n",
      "Extracting /Users/ziqianwang/Desktop/kecode/TensorFlow/源码/4手写数字识别/MNIST_data /train-labels-idx1-ubyte.gz\n",
      "Extracting /Users/ziqianwang/Desktop/kecode/TensorFlow/源码/4手写数字识别/MNIST_data /t10k-images-idx3-ubyte.gz\n",
      "Extracting /Users/ziqianwang/Desktop/kecode/TensorFlow/源码/4手写数字识别/MNIST_data /t10k-labels-idx1-ubyte.gz\n"
     ]
    },
    {
     "ename": "NameError",
     "evalue": "name 'mnist' is not defined",
     "output_type": "error",
     "traceback": [
      "\u001b[0;31m---------------------------------------------------------------------------\u001b[0m",
      "\u001b[0;31mNameError\u001b[0m                                 Traceback (most recent call last)",
      "\u001b[0;32m<ipython-input-2-f044e7f4e8e1>\u001b[0m in \u001b[0;36m<module>\u001b[0;34m()\u001b[0m\n\u001b[1;32m     19\u001b[0m \u001b[0mtrainIndex\u001b[0m \u001b[0;34m=\u001b[0m \u001b[0mnp\u001b[0m\u001b[0;34m.\u001b[0m\u001b[0mrandom\u001b[0m\u001b[0;34m.\u001b[0m\u001b[0mchoice\u001b[0m\u001b[0;34m(\u001b[0m\u001b[0mtrainNum\u001b[0m\u001b[0;34m,\u001b[0m\u001b[0mtrainSize\u001b[0m\u001b[0;34m,\u001b[0m\u001b[0mreplace\u001b[0m\u001b[0;34m=\u001b[0m\u001b[0;32mFalse\u001b[0m\u001b[0;34m)\u001b[0m\u001b[0;34m\u001b[0m\u001b[0m\n\u001b[1;32m     20\u001b[0m \u001b[0mtestIndex\u001b[0m \u001b[0;34m=\u001b[0m \u001b[0mnp\u001b[0m\u001b[0;34m.\u001b[0m\u001b[0mrandom\u001b[0m\u001b[0;34m.\u001b[0m\u001b[0mchoice\u001b[0m\u001b[0;34m(\u001b[0m\u001b[0mtestNum\u001b[0m\u001b[0;34m,\u001b[0m\u001b[0mtestSize\u001b[0m\u001b[0;34m,\u001b[0m\u001b[0mreplace\u001b[0m\u001b[0;34m=\u001b[0m\u001b[0;32mFalse\u001b[0m\u001b[0;34m)\u001b[0m\u001b[0;34m\u001b[0m\u001b[0m\n\u001b[0;32m---> 21\u001b[0;31m \u001b[0mtrainData\u001b[0m \u001b[0;34m=\u001b[0m \u001b[0mmnist\u001b[0m\u001b[0;34m.\u001b[0m\u001b[0mtrain\u001b[0m\u001b[0;34m.\u001b[0m\u001b[0mimages\u001b[0m\u001b[0;34m[\u001b[0m\u001b[0mtrainIndex\u001b[0m\u001b[0;34m]\u001b[0m\u001b[0;31m#获取训练图片\u001b[0m\u001b[0;34m\u001b[0m\u001b[0m\n\u001b[0m\u001b[1;32m     22\u001b[0m \u001b[0mtrainLabel\u001b[0m \u001b[0;34m=\u001b[0m \u001b[0mmnist\u001b[0m\u001b[0;34m.\u001b[0m\u001b[0mtrain\u001b[0m\u001b[0;34m.\u001b[0m\u001b[0mlabel\u001b[0m\u001b[0;34m[\u001b[0m\u001b[0mtrainIndex\u001b[0m\u001b[0;34m]\u001b[0m\u001b[0;31m#获取训练标签\u001b[0m\u001b[0;34m\u001b[0m\u001b[0m\n\u001b[1;32m     23\u001b[0m \u001b[0mtestData\u001b[0m \u001b[0;34m=\u001b[0m \u001b[0mminst\u001b[0m\u001b[0;34m.\u001b[0m\u001b[0mtest\u001b[0m\u001b[0;34m.\u001b[0m\u001b[0mimages\u001b[0m\u001b[0;34m[\u001b[0m\u001b[0mtestIndex\u001b[0m\u001b[0;34m]\u001b[0m\u001b[0;34m\u001b[0m\u001b[0m\n",
      "\u001b[0;31mNameError\u001b[0m: name 'mnist' is not defined"
     ]
    }
   ],
   "source": [
    "#knn原理：样本图进行比较，k个相似图片，找相似性最大的，统计那个字出现最高\n",
    "\n",
    "import tensorflow as tf\n",
    "import numpy as np\n",
    "import random\n",
    "#old_v = tf.logging.get_verbosity()\n",
    "#tf.logging.set_verbosity(tf.logging.ERROR)\n",
    "from tensorflow.examples.tutorials.mnist import input_data\n",
    "#load data\n",
    "#one_hot只要有一个1其他都是0\n",
    "mnist = input_data.read_data_sets('/Users/ziqianwang/Desktop/kecode/TensorFlow/源码/4手写数字识别/MNIST_data ',one_hot=True)\n",
    "#trainNum训练多少图片，testNum测试图片，trainSize使用多少图片，测试使用多少图片\n",
    "trainNum = 55000\n",
    "testNum = 10000\n",
    "trainSize = 500\n",
    "testSize =5\n",
    "k=4\n",
    "#数据加载 data分解 在0-trainNum之间 选取trainSize个随机数，不可重复  \n",
    "trainIndex = np.random.choice(trainNum,trainSize,replace=False)\n",
    "testIndex = np.random.choice(testNum,testSize,replace=False)\n",
    "trainData = mnist.train.images[trainIndex]#获取训练图片\n",
    "trainLabel = mnist.train.label[trainIndex]#获取训练标签\n",
    "testData = minst.test.images[testIndex]\n",
    "testLabel = minst.test.labels[testIndex]\n",
    "\n",
    "print('trainData.shape:',trainData.shape)\n",
    "print('trainlabel.shape:',trainLabel.shape)\n",
    "\n",
    "\n",
    "\n"
   ]
  },
  {
   "cell_type": "code",
   "execution_count": null,
   "metadata": {},
   "outputs": [],
   "source": []
  },
  {
   "cell_type": "code",
   "execution_count": null,
   "metadata": {},
   "outputs": [],
   "source": []
  }
 ],
 "metadata": {
  "kernelspec": {
   "display_name": "Python 3",
   "language": "python",
   "name": "python3"
  },
  "language_info": {
   "codemirror_mode": {
    "name": "ipython",
    "version": 3
   },
   "file_extension": ".py",
   "mimetype": "text/x-python",
   "name": "python",
   "nbconvert_exporter": "python",
   "pygments_lexer": "ipython3",
   "version": "3.6.6"
  }
 },
 "nbformat": 4,
 "nbformat_minor": 2
}
