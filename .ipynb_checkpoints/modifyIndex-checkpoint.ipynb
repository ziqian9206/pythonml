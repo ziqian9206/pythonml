{
 "cells": [
  {
   "cell_type": "code",
   "execution_count": 4,
   "metadata": {},
   "outputs": [
    {
     "name": "stdout",
     "output_type": "stream",
     "text": [
      "['8', 'jpg']\n",
      "['9', 'jpg']\n",
      "['10', 'jpg']\n",
      "['4', 'jpg']\n",
      "['5', 'jpg']\n",
      "['7', 'jpg']\n",
      "['6', 'jpg']\n",
      "['2', 'jpg']\n",
      "['3', 'jpg']\n",
      "['1', 'jpg']\n",
      "end!\n"
     ]
    }
   ],
   "source": [
    "import os\n",
    "import numpy as np\n",
    "import cv2\n",
    "import tensorflow as tf\n",
    "import matplotlib.pyplot as plt\n",
    "from PIL import Image\n",
    "# path = 'A1.0.jpg'\n",
    "# pathStr = path.split(\".\")\n",
    "# print(pathStr[0]+'.'+pathStr[1]+'.jpeg')\n",
    "train_dir = '/Users/ziqianwang/Desktop/kecode/TensorFlow/picture/house/3s1t'\n",
    "def get_files(file_dir):\n",
    "    for file in os.listdir(file_dir):\n",
    "        img = cv2.imread(file)\n",
    "        name = file.split('.')\n",
    "        if(name[1]=='jpg'):\n",
    "            print(name)\n",
    "            cv2.imwrite('/Users/ziqianwang/Desktop/kecode/TensorFlow/picture/house/A4.'+name[0]+'.jpeg',img)\n",
    "get_files(train_dir)\n",
    "print('end!')"
   ]
  },
  {
   "cell_type": "code",
   "execution_count": null,
   "metadata": {},
   "outputs": [],
   "source": []
  },
  {
   "cell_type": "code",
   "execution_count": null,
   "metadata": {},
   "outputs": [],
   "source": []
  }
 ],
 "metadata": {
  "kernelspec": {
   "display_name": "Python 3",
   "language": "python",
   "name": "python3"
  },
  "language_info": {
   "codemirror_mode": {
    "name": "ipython",
    "version": 3
   },
   "file_extension": ".py",
   "mimetype": "text/x-python",
   "name": "python",
   "nbconvert_exporter": "python",
   "pygments_lexer": "ipython3",
   "version": "3.6.6"
  }
 },
 "nbformat": 4,
 "nbformat_minor": 2
}
