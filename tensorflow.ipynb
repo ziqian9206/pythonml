{
 "cells": [
  {
   "cell_type": "code",
   "execution_count": 4,
   "metadata": {},
   "outputs": [
    {
     "name": "stdout",
     "output_type": "stream",
     "text": [
      "Tensor(\"Const_3:0\", shape=(), dtype=float32)\n",
      "<tf.Variable 'var_2:0' shape=() dtype=int32_ref>\n",
      "2.5\n"
     ]
    }
   ],
   "source": [
    "import tensorflow as tf\n",
    "#constant\n",
    "data1 = tf.constant(2.5)\n",
    "data2 = tf.Variable(10,name='var')\n",
    "print(data1)\n",
    "print(data2)\n",
    "session = tf.Session()\n",
    "print(session.run(data1))"
   ]
  },
  {
   "cell_type": "code",
   "execution_count": null,
   "metadata": {},
   "outputs": [],
   "source": []
  }
 ],
 "metadata": {
  "kernelspec": {
   "display_name": "Python 3",
   "language": "python",
   "name": "python3"
  },
  "language_info": {
   "codemirror_mode": {
    "name": "ipython",
    "version": 3
   },
   "file_extension": ".py",
   "mimetype": "text/x-python",
   "name": "python",
   "nbconvert_exporter": "python",
   "pygments_lexer": "ipython3",
   "version": "3.6.6"
  }
 },
 "nbformat": 4,
 "nbformat_minor": 2
}
